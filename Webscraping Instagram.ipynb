{
 "cells": [
  {
   "cell_type": "markdown",
   "metadata": {},
   "source": [
    "# Webscraping Instagram with Selenium\n",
    "\n",
    "## Imports"
   ]
  },
  {
   "cell_type": "code",
   "execution_count": 16,
   "metadata": {},
   "outputs": [],
   "source": [
    "#Selenium imports here\n",
    "from selenium import webdriver\n",
    "from selenium.webdriver.common.keys import Keys\n",
    "from selenium.webdriver.support import expected_conditions as EC\n",
    "from selenium.webdriver.common.by import By\n",
    "from selenium.webdriver.support.wait import WebDriverWait"
   ]
  },
  {
   "cell_type": "code",
   "execution_count": 17,
   "metadata": {},
   "outputs": [],
   "source": [
    "#Other imports here\n",
    "import os\n",
    "import wget"
   ]
  },
  {
   "cell_type": "markdown",
   "metadata": {},
   "source": [
    "## Log into Instagram"
   ]
  },
  {
   "cell_type": "code",
   "execution_count": 18,
   "metadata": {},
   "outputs": [
    {
     "name": "stderr",
     "output_type": "stream",
     "text": [
      "C:\\Users\\TOFUNMI\\anaconda3\\envs\\Web Scraping\\lib\\site-packages\\ipykernel_launcher.py:1: DeprecationWarning: executable_path has been deprecated, please pass in a Service object\n",
      "  \"\"\"Entry point for launching an IPython kernel.\n"
     ]
    }
   ],
   "source": [
    "driver = webdriver.Chrome(\"Enter The File Path To THE Chrome Driver\")\n",
    "driver.get(\"https://www.instagram.com/\")"
   ]
  },
  {
   "cell_type": "code",
   "execution_count": 19,
   "metadata": {},
   "outputs": [],
   "source": [
    "username = WebDriverWait(driver, 10).until(EC.element_to_be_clickable((By.CSS_SELECTOR, \"input[name='username']\")))\n",
    "password = WebDriverWait(driver, 10).until(EC.element_to_be_clickable((By.CSS_SELECTOR, \"input[name='password']\")))\n",
    "\n",
    "username.clear()\n",
    "password.clear()\n",
    "\n",
    "# Input Login Details\n",
    "username.send_keys(\"\")\n",
    "password.send_keys(\"\")"
   ]
  },
  {
   "cell_type": "code",
   "execution_count": 20,
   "metadata": {},
   "outputs": [],
   "source": [
    "log_in = WebDriverWait(driver, 10).until(EC.element_to_be_clickable((By.CSS_SELECTOR, \"button[type='submit']\"))).click()"
   ]
  },
  {
   "cell_type": "code",
   "execution_count": 21,
   "metadata": {},
   "outputs": [],
   "source": [
    "not_now = WebDriverWait(driver, 10).until(EC.element_to_be_clickable((By.XPATH, \"//button[contains(text(), 'Not Now')]\"))).click()\n",
    "not_now2 = WebDriverWait(driver, 10).until(EC.element_to_be_clickable((By.XPATH, \"//button[contains(text(), 'Not Now')]\"))).click()"
   ]
  },
  {
   "cell_type": "markdown",
   "metadata": {},
   "source": [
    "# Change Keyword Here"
   ]
  },
  {
   "cell_type": "code",
   "execution_count": 22,
   "metadata": {},
   "outputs": [],
   "source": [
    "searchbox = WebDriverWait(driver, 10).until(EC.element_to_be_clickable((By.XPATH, \"//input[@placeholder='Search']\")))\n",
    "searchbox.clear()\n",
    "keyword = \"#tesla\"\n",
    "searchbox.send_keys(keyword)"
   ]
  },
  {
   "cell_type": "code",
   "execution_count": 24,
   "metadata": {},
   "outputs": [],
   "source": [
    "searchbox.send_keys(Keys.ENTER)"
   ]
  },
  {
   "cell_type": "code",
   "execution_count": 25,
   "metadata": {},
   "outputs": [
    {
     "name": "stderr",
     "output_type": "stream",
     "text": [
      "C:\\Users\\TOFUNMI\\anaconda3\\envs\\Web Scraping\\lib\\site-packages\\ipykernel_launcher.py:3: DeprecationWarning: find_elements_by_* commands are deprecated. Please use find_elements() instead\n",
      "  This is separate from the ipykernel package so we can avoid doing imports until\n"
     ]
    },
    {
     "data": {
      "text/plain": [
       "['https://scontent-los2-1.cdninstagram.com/v/t51.2885-15/277075649_1410503702750990_5130879407001972419_n.jpg?stp=dst-jpg_e35&_nc_ht=scontent-los2-1.cdninstagram.com&_nc_cat=102&_nc_ohc=a0A063BkYYoAX8TmFyC&tn=iUzyephcrzjfFXlt&edm=ABZsPhsBAAAA&ccb=7-4&ig_cache_key=Mjc5OTQ2Nzg1MTQ3MDM0MDg0NQ%3D%3D.2-ccb7-4&oh=00_AT8sLPLHFY6nTW_4uNeTqtrOTyVw0OVzKvS5idmWGpUfRA&oe=62416B9D&_nc_sid=4efc9f',\n",
       " 'https://scontent-los2-1.cdninstagram.com/v/t51.2885-15/277075649_1410503702750990_5130879407001972419_n.jpg?stp=dst-jpg_e35&_nc_ht=scontent-los2-1.cdninstagram.com&_nc_cat=102&_nc_ohc=a0A063BkYYoAX8TmFyC&tn=iUzyephcrzjfFXlt&edm=ABZsPhsBAAAA&ccb=7-4&ig_cache_key=Mjc5OTQ2Nzg1MTQ3MDM0MDg0NQ%3D%3D.2-ccb7-4&oh=00_AT8sLPLHFY6nTW_4uNeTqtrOTyVw0OVzKvS5idmWGpUfRA&oe=62416B9D&_nc_sid=4efc9f',\n",
       " 'https://scontent-los2-1.cdninstagram.com/v/t51.2885-15/277213945_464653105451209_1450643104958347805_n.jpg?stp=dst-jpg_e35&_nc_ht=scontent-los2-1.cdninstagram.com&_nc_cat=101&_nc_ohc=Z6hzx57tgWcAX9KSbHj&edm=ABZsPhsBAAAA&ccb=7-4&ig_cache_key=Mjc5OTM3MTY3MDE3Njc4NjcyOA%3D%3D.2-ccb7-4&oh=00_AT-qjaunF0aku6SSjgrmQ4vodd09cWGyG8YEi7vKDATRww&oe=6240F541&_nc_sid=4efc9f',\n",
       " 'https://scontent-los2-1.cdninstagram.com/v/t51.2885-15/276150711_4950680658372296_5516265249529407731_n.jpg?stp=dst-jpg_e35&_nc_ht=scontent-los2-1.cdninstagram.com&_nc_cat=108&_nc_ohc=CaU23yOELi8AX-OlbDd&tn=iUzyephcrzjfFXlt&edm=ABZsPhsBAAAA&ccb=7-4&ig_cache_key=Mjc5ODk5NzM2NzE5MjAwNDc1Ng%3D%3D.2-ccb7-4&oh=00_AT-RllPNA7O_FlMhrYAoK13VU1RTL-RG6IvOnkm6b131iQ&oe=62407E86&_nc_sid=4efc9f',\n",
       " 'https://scontent-los2-1.cdninstagram.com/v/t51.2885-15/276982214_272245141623165_8182275757140425861_n.jpg?stp=dst-jpg_e35&_nc_ht=scontent-los2-1.cdninstagram.com&_nc_cat=109&_nc_ohc=qQKR0k1ZXdgAX93I-xJ&edm=ABZsPhsBAAAA&ccb=7-4&ig_cache_key=Mjc5OTAxODcwOTM0NTgyOTA3OA%3D%3D.2-ccb7-4&oh=00_AT9oDxo7GwMRHIoLgqL6BuSs1QEi0tJ6wqRYfNH0ELodMA&oe=62417280&_nc_sid=4efc9f',\n",
       " 'https://scontent-los2-1.cdninstagram.com/v/t51.2885-15/277028480_379234267420296_1731083561100785370_n.jpg?stp=dst-jpg_e15_fr_s1080x1080&_nc_ht=scontent-los2-1.cdninstagram.com&_nc_cat=100&_nc_ohc=8Nk-zMuVKAQAX-CXYsg&edm=ABZsPhsBAAAA&ccb=7-4&ig_cache_key=Mjc5OTY4NDc4MzE0OTM4MDQ4Mw%3D%3D.2-ccb7-4&oh=00_AT_v6Ng7qn9vp74MvWJNrVeFq1kxh6vwJ7lKf5A55Oj-5A&oe=6240C3E3&_nc_sid=4efc9f',\n",
       " 'https://scontent-los2-1.cdninstagram.com/v/t51.2885-15/276978450_387217120071949_3194044766878538525_n.jpg?stp=dst-jpg_e35&_nc_ht=scontent-los2-1.cdninstagram.com&_nc_cat=101&_nc_ohc=cDgfrNv42HQAX9o6IxY&edm=ABZsPhsBAAAA&ccb=7-4&ig_cache_key=Mjc5OTE2Mjg0NDMwNDQ0MTA4NQ%3D%3D.2-ccb7-4&oh=00_AT-1gpvoLof2V7OuzOjKSL6tmR3peOwN8dyqwNgQ7IBS0w&oe=6241E80B&_nc_sid=4efc9f',\n",
       " 'https://scontent-los2-1.cdninstagram.com/v/t51.2885-15/275858857_130422952870570_345615753604012675_n.jpg?stp=dst-jpg_e35&_nc_ht=scontent-los2-1.cdninstagram.com&_nc_cat=110&_nc_ohc=9OlZz04SlWEAX-7T-Gk&edm=ABZsPhsBAAAA&ccb=7-4&ig_cache_key=Mjc5ODM2NDE5NjA4MDQ2NjcxMA%3D%3D.2-ccb7-4&oh=00_AT9fwAo5CqU9m5f1gwaJDRyxqdqtMy5K0ieNY8xezGaZ8A&oe=6240E267&_nc_sid=4efc9f',\n",
       " 'https://scontent-los2-1.cdninstagram.com/v/t51.2885-15/276307235_368118785176124_2790508787774074197_n.jpg?stp=dst-jpg_e35&_nc_ht=scontent-los2-1.cdninstagram.com&_nc_cat=108&_nc_ohc=_GItlQIvmwsAX_hlQal&tn=iUzyephcrzjfFXlt&edm=ABZsPhsBAAAA&ccb=7-4&ig_cache_key=Mjc5ODkzNDgxNzIwNjc3MTU1Mw%3D%3D.2-ccb7-4&oh=00_AT8Kgp-5oU1BZ9yM4cG_-F6HxtdSF-qIw49kbr-6IKm5TA&oe=62401D4C&_nc_sid=4efc9f',\n",
       " 'https://scontent-los2-1.cdninstagram.com/v/t51.2885-15/277034569_4944526328961435_758503061369741938_n.jpg?stp=dst-jpg_e35&_nc_ht=scontent-los2-1.cdninstagram.com&_nc_cat=103&_nc_ohc=o7utCSwuULgAX_PF6Vu&edm=ABZsPhsBAAAA&ccb=7-4&ig_cache_key=Mjc5ODkwMjEwMDA4NTQxMTI5Mw%3D%3D.2-ccb7-4&oh=00_AT8j7ojT0BKfZSwtkDPe0fh3czux3yDA0CAYg1kNfiHAJw&oe=62413AFF&_nc_sid=4efc9f',\n",
       " 'https://scontent-los2-1.cdninstagram.com/v/t51.2885-15/277149765_123611500047660_6988199313237000930_n.webp?stp=dst-jpg_e35&_nc_ht=scontent-los2-1.cdninstagram.com&_nc_cat=100&_nc_ohc=0cE38_349YoAX-yvGHk&edm=ABZsPhsBAAAA&ccb=7-4&ig_cache_key=Mjc5OTc3OTg5MzAwMzM0ODEzMA%3D%3D.2-ccb7-4&oh=00_AT_Z4Gx6PnWkhbgz9TiU0Qtn8KsgJbTFqgFii29CBu8b4Q&oe=624099E6&_nc_sid=4efc9f',\n",
       " 'https://scontent-los2-1.cdninstagram.com/v/t51.2885-15/277081928_505863947644505_5741967895590458791_n.webp?stp=dst-jpg_e35&_nc_ht=scontent-los2-1.cdninstagram.com&_nc_cat=105&_nc_ohc=74IMk36g-3sAX9igtBT&tn=iUzyephcrzjfFXlt&edm=ABZsPhsBAAAA&ccb=7-4&ig_cache_key=Mjc5OTc3OTU5Mjc0NTgyODU5Mg%3D%3D.2-ccb7-4&oh=00_AT_tTgn_vY22q3boSN3qLxMnnSzI6Wfz47wCz42gB0bZrg&oe=6241FD54&_nc_sid=4efc9f',\n",
       " 'https://scontent-los2-1.cdninstagram.com/v/t51.2885-15/276319344_1517315641995841_4602608565694366286_n.webp?stp=dst-jpg_e35&_nc_ht=scontent-los2-1.cdninstagram.com&_nc_cat=101&_nc_ohc=Ef6lrU6TunAAX_lLGCH&tn=iUzyephcrzjfFXlt&edm=ABZsPhsBAAAA&ccb=7-4&ig_cache_key=Mjc5OTc3ODYzOTE0ODQ4NTc1OQ%3D%3D.2-ccb7-4&oh=00_AT8r5H1TGi_6glol38XujewM1UNEsaOTjkcgWKI0nU80EQ&oe=62402DCD&_nc_sid=4efc9f',\n",
       " 'https://scontent-los2-1.cdninstagram.com/v/t51.2885-15/276953058_655396772395106_5098764108687873286_n.jpg?stp=dst-jpg_e35&_nc_ht=scontent-los2-1.cdninstagram.com&_nc_cat=102&_nc_ohc=xmf8WMho_UgAX8tL9JG&edm=ABZsPhsBAAAA&ccb=7-4&ig_cache_key=Mjc5OTc3ODE4MjQ1NzE4NjMzOA%3D%3D.2-ccb7-4&oh=00_AT8PbpUrW03C-EEf3XvcKowWDE9kq8-dmOU6Htx97gyTeg&oe=6241150F&_nc_sid=4efc9f',\n",
       " 'https://scontent-los2-1.cdninstagram.com/v/t51.2885-15/277114113_1092014841589279_4449877553254688278_n.jpg?stp=dst-jpg_e35&_nc_ht=scontent-los2-1.cdninstagram.com&_nc_cat=107&_nc_ohc=3Zhv40rjeC8AX_5M_0G&edm=ABZsPhsBAAAA&ccb=7-4&ig_cache_key=Mjc5OTc3ODY1OTY5MDY0ODg3OQ%3D%3D.2-ccb7-4&oh=00_AT9YPaZi8ZAhoH0XpZ_CRg26ZFFLz6t5O7J2pRUs9idqZw&oe=6240939A&_nc_sid=4efc9f',\n",
       " 'https://scontent-los2-1.cdninstagram.com/v/t51.2885-15/276967195_1605941293100605_5222596461496490308_n.jpg?stp=dst-jpg_e35&_nc_ht=scontent-los2-1.cdninstagram.com&_nc_cat=101&_nc_ohc=c_STXQUgRqQAX_wc_Qd&edm=ABZsPhsBAAAA&ccb=7-4&ig_cache_key=Mjc5OTc3OTAwMDgzMjc1MzA4Mg%3D%3D.2-ccb7-4&oh=00_AT_9neYml7sASURiNgK848Z3cQ6uLhJ2g8-MrNPy7jiA6A&oe=6241C474&_nc_sid=4efc9f',\n",
       " 'https://scontent-los2-1.cdninstagram.com/v/t51.2885-15/276964960_1007167353238363_4657347163237776016_n.jpg?stp=dst-jpg_e35&_nc_ht=scontent-los2-1.cdninstagram.com&_nc_cat=107&_nc_ohc=EE76VgjGM0sAX8N06ke&edm=ABZsPhsBAAAA&ccb=7-4&ig_cache_key=Mjc5OTc3NzUxMjk0NTU0OTI1Mw%3D%3D.2-ccb7-4&oh=00_AT-p4Nam7poVXC_XQDIaaeKylzTBkdpb5v4RoS0iDeZezw&oe=624127ED&_nc_sid=4efc9f',\n",
       " 'https://scontent-los2-1.cdninstagram.com/v/t51.2885-15/276076849_498064598565746_520278103567682973_n.webp?stp=dst-jpg_e35&_nc_ht=scontent-los2-1.cdninstagram.com&_nc_cat=102&_nc_ohc=_N2e98Oj5-oAX_FdB0D&edm=ABZsPhsBAAAA&ccb=7-4&ig_cache_key=Mjc5OTc3NzQ2NzIzNTMzMDQ4Mg%3D%3D.2-ccb7-4&oh=00_AT-YbVBc9yVGcHJT_-ykLDzPTLOAPE1H0GV6PaxgLt1kMg&oe=62410D1E&_nc_sid=4efc9f',\n",
       " 'https://scontent-los2-1.cdninstagram.com/v/t51.2885-15/277031032_681447453181726_6118890311848564345_n.jpg?stp=dst-jpg_e35&_nc_ht=scontent-los2-1.cdninstagram.com&_nc_cat=110&_nc_ohc=v9uEmyBrPbMAX-U-EVP&edm=ABZsPhsBAAAA&ccb=7-4&ig_cache_key=Mjc5OTc3Mzk5MDAzNzk3MjM3OQ%3D%3D.2-ccb7-4&oh=00_AT8JkgTDzlfR0NRPI_mkTA4kF-5VQ5o743bLR1ydzIZudQ&oe=62416117&_nc_sid=4efc9f',\n",
       " 'https://scontent-los2-1.cdninstagram.com/v/t51.2885-15/277030548_724711988691796_7585550710357526611_n.jpg?stp=dst-jpg_e15&_nc_ht=scontent-los2-1.cdninstagram.com&_nc_cat=104&_nc_ohc=e3Vol1EIAhYAX-ND__G&edm=ABZsPhsBAAAA&ccb=7-4&ig_cache_key=Mjc5OTc3NzY2NTY3NjEwMzYxNA%3D%3D.2-ccb7-4&oh=00_AT-E2tVOuVRqpHvB36VCXxW99vxXt87y3ko5nYjrDjy5cQ&oe=62420BDF&_nc_sid=4efc9f',\n",
       " 'https://scontent-los2-1.cdninstagram.com/v/t51.2885-15/277033281_1073280576552319_4511997083255124418_n.jpg?stp=dst-jpg_e35&_nc_ht=scontent-los2-1.cdninstagram.com&_nc_cat=107&_nc_ohc=8rc6jyIniw4AX_8_-BY&edm=ABZsPhsBAAAA&ccb=7-4&ig_cache_key=Mjc5OTc3NzQ1Nzc5MDE1MjI4MA%3D%3D.2-ccb7-4&oh=00_AT-CPfl7UDNzRsOpSy0xFhcwPe1sYKn2Wn_Il3KIuSOonw&oe=62413005&_nc_sid=4efc9f',\n",
       " 'https://scontent-los2-1.cdninstagram.com/v/t51.2885-15/277037601_4880029798782907_454070505642696789_n.jpg?stp=dst-jpg_e35&_nc_ht=scontent-los2-1.cdninstagram.com&_nc_cat=107&_nc_ohc=cs7fVBu08MEAX_FXWcN&edm=ABZsPhsBAAAA&ccb=7-4&ig_cache_key=Mjc5OTc3NzI1NzIyNzE0Njg1Mw%3D%3D.2-ccb7-4&oh=00_AT-Yy2WzXcorWy9L8GCEBFtSXwnqLjNMwpYVFzfnUzGt5A&oe=62404E85&_nc_sid=4efc9f',\n",
       " 'https://scontent-los2-1.cdninstagram.com/v/t51.2885-15/276324130_991184501807401_6553151755968288144_n.jpg?stp=dst-jpg_e35&_nc_ht=scontent-los2-1.cdninstagram.com&_nc_cat=101&_nc_ohc=mao_5z1uqJEAX8EsXD2&edm=ABZsPhsBAAAA&ccb=7-4&ig_cache_key=Mjc5OTc3NjUzNzg2MDQwOTIxNg%3D%3D.2-ccb7-4&oh=00_AT9yY32hk0PlilllJfGN01B7veNfV2lYMn0tDZPZQOy-nA&oe=62404067&_nc_sid=4efc9f',\n",
       " 'https://scontent-los2-1.cdninstagram.com/v/t51.2885-15/277099282_392037028986914_7589832059960964677_n.jpg?stp=dst-jpg_e15_s640x640&_nc_ht=scontent-los2-1.cdninstagram.com&_nc_cat=102&_nc_ohc=JYFSUYQ3LbEAX9r6L-Z&edm=ABZsPhsBAAAA&ccb=7-4&ig_cache_key=Mjc5OTc3Njg3MTMzMjUwNDk2Mg%3D%3D.2-ccb7-4&oh=00_AT9ASA0T2v-uoO3UYikld2Gw-rH2HcydS6n8J4V87k7dBg&oe=6240F9B2&_nc_sid=4efc9f',\n",
       " 'https://scontent-los2-1.cdninstagram.com/v/t51.2885-15/276968313_922666538423771_4766832592500966257_n.jpg?stp=dst-jpg_e15_fr_s1080x1080&_nc_ht=scontent-los2-1.cdninstagram.com&_nc_cat=111&_nc_ohc=6VVbdRB5x5kAX8n55vq&edm=ABZsPhsBAAAA&ccb=7-4&ig_cache_key=Mjc5OTc3NjA2NTAwMzE1MDM1Ng%3D%3D.2-ccb7-4&oh=00_AT8xRgjL74AZbUoeFW2H3p9R1TFghYWiZxjbATIJHtzC7w&oe=6241AAB6&_nc_sid=4efc9f',\n",
       " 'https://scontent-los2-1.cdninstagram.com/v/t51.2885-15/277029890_510891457108536_2185216748163908634_n.jpg?stp=dst-jpg_e35&_nc_ht=scontent-los2-1.cdninstagram.com&_nc_cat=100&_nc_ohc=eLY3sBuFKFIAX-V6m6i&edm=ABZsPhsBAAAA&ccb=7-4&ig_cache_key=Mjc5OTc3NjUxNzYwMzU2NTI5OQ%3D%3D.2-ccb7-4&oh=00_AT-Gk2WYaW3NU9NnYjY49XF_GinwBr7CYGcfJR74DI88TA&oe=62409382&_nc_sid=4efc9f',\n",
       " 'https://scontent-los2-1.cdninstagram.com/v/t51.2885-15/276263761_511932860460276_1686673217609188276_n.jpg?stp=dst-jpg_e15_fr_p1080x1080&_nc_ht=scontent-los2-1.cdninstagram.com&_nc_cat=100&_nc_ohc=gYuXn5Lt2PUAX-bNAn0&edm=ABZsPhsBAAAA&ccb=7-4&ig_cache_key=Mjc5OTc3Njk5MjY4MDI4NDcyNg%3D%3D.2-ccb7-4&oh=00_AT_-yj7dT19GcmgZt12_TzpT_cRDfEySG5g9Dfn-TGUxlQ&oe=62411DB8&_nc_sid=4efc9f',\n",
       " 'https://scontent-los2-1.cdninstagram.com/v/t51.2885-15/277038767_1474080496339934_8103776596568868572_n.jpg?stp=dst-jpg_e35&_nc_ht=scontent-los2-1.cdninstagram.com&_nc_cat=102&_nc_ohc=iiRk0g-CkF4AX_8BM0b&edm=ABZsPhsBAAAA&ccb=7-4&ig_cache_key=Mjc5OTc3NjMzNjg1MzQwNDEwNw%3D%3D.2-ccb7-4&oh=00_AT8eL1eHWjExemGUI_iqIy2au3xHTbtMbBeC7vDxoTrg9Q&oe=6240F243&_nc_sid=4efc9f',\n",
       " 'https://scontent-los2-1.cdninstagram.com/v/t51.2885-15/276976144_644421606644861_3504724083430348914_n.jpg?stp=dst-jpg_e35&_nc_ht=scontent-los2-1.cdninstagram.com&_nc_cat=105&_nc_ohc=t64oCNcLSekAX8NzPwL&edm=ABZsPhsBAAAA&ccb=7-4&ig_cache_key=Mjc5OTc3NjM5MjY2MzU3MDE3OA%3D%3D.2-ccb7-4&oh=00_AT-f0jyLUjQJ2iesM81edFDC9VwJ4VFBDAHsGvnbmJSnWQ&oe=6241ECDF&_nc_sid=4efc9f',\n",
       " 'https://scontent-los2-1.cdninstagram.com/v/t51.2885-15/276303648_1169837687110710_3308190348012158829_n.jpg?stp=dst-jpg_e35&_nc_ht=scontent-los2-1.cdninstagram.com&_nc_cat=106&_nc_ohc=epusaLMnwU4AX_z5ZwE&edm=ABZsPhsBAAAA&ccb=7-4&ig_cache_key=Mjc5OTc3NjYzNTA0NDExNzYwMQ%3D%3D.2-ccb7-4&oh=00_AT-I_c-5e-8MKPfLBFpwk0mFRz2pq2DXkvNBoM81gFGvXA&oe=62419B2B&_nc_sid=4efc9f',\n",
       " 'https://scontent-los2-1.cdninstagram.com/v/t51.2885-15/276325021_172363385139540_3267324656152681480_n.jpg?stp=dst-jpg_e35&_nc_ht=scontent-los2-1.cdninstagram.com&_nc_cat=100&_nc_ohc=OwD84BEyMOkAX8898hB&edm=ABZsPhsBAAAA&ccb=7-4&ig_cache_key=Mjc5OTc3Njg5NjY2NzcyODg5Mg%3D%3D.2-ccb7-4&oh=00_AT-5YCOPZrQR3Ybnz2iWCi1cI6ll5VvFUSzCh8dVrmPtLw&oe=6240556E&_nc_sid=4efc9f',\n",
       " 'https://scontent-los2-1.cdninstagram.com/v/t51.2885-15/276322714_1056009218337877_582072809062618669_n.jpg?stp=dst-jpg_e35&_nc_ht=scontent-los2-1.cdninstagram.com&_nc_cat=101&_nc_ohc=2jLIgTip5W8AX878ccw&edm=ABZsPhsBAAAA&ccb=7-4&ig_cache_key=Mjc5OTc3NTU0MTI3NzQ2OTU5MA%3D%3D.2-ccb7-4&oh=00_AT9pPSbsmMlhlRT5UNZhCs5Vwa6qKKgx5oi1U4nwMSURZA&oe=6240E103&_nc_sid=4efc9f',\n",
       " 'https://scontent-los2-1.cdninstagram.com/v/t51.2885-15/277176503_1025261978063335_3333458729074572827_n.jpg?stp=dst-jpg_e15_s640x640&_nc_ht=scontent-los2-1.cdninstagram.com&_nc_cat=107&_nc_ohc=MCX4vCMEFDAAX_YCc4D&edm=ABZsPhsBAAAA&ccb=7-4&ig_cache_key=Mjc5OTc3NDk1NDIzNTAxMTYyMg%3D%3D.2-ccb7-4&oh=00_AT_XlTk8640o0aJAoaMLWXrNWPbkIuGtPwP5glcYCOq6fw&oe=6241A23A&_nc_sid=4efc9f',\n",
       " 'https://scontent-los2-1.cdninstagram.com/v/t51.2885-15/276966603_4756152054494072_402109801595015772_n.jpg?stp=dst-jpg_e15_s640x640&_nc_ht=scontent-los2-1.cdninstagram.com&_nc_cat=108&_nc_ohc=xs5KpDQD350AX8IyHdS&edm=ABZsPhsBAAAA&ccb=7-4&ig_cache_key=Mjc5OTc3NTE4ODU0NTAwNDM1Mg%3D%3D.2-ccb7-4&oh=00_AT-8SvNY-xjauiLCznrT7pWz1V6dsYXpDMAlLzDEBZ_BeQ&oe=624117B5&_nc_sid=4efc9f',\n",
       " 'https://www.instagram.com/static/images/web/mobile_nav_type_logo.png/735145cfe0a4.png',\n",
       " 'https://instagram.fbom17-1.fna.fbcdn.net/v/t51.2885-19/44884218_345707102882519_2446069589734326272_n.jpg?_nc_ht=instagram.fbom17-1.fna.fbcdn.net&_nc_cat=1&_nc_ohc=cA4LM9PyAJcAX_6Te3j&edm=APwHDrQBAAAA&ccb=7-4&ig_cache_key=YW5vbnltb3VzX3Byb2ZpbGVfcGlj.2-ccb7-4&oh=00_AT-IdW_3UQDLQ4PU36D__skRCuJvS7uOgNMwpkx4I9g2fg&oe=6240714F&_nc_sid=1c538d']"
      ]
     },
     "execution_count": 25,
     "metadata": {},
     "output_type": "execute_result"
    }
   ],
   "source": [
    "driver.execute_script(\"window.scrollTo(0,4000);\")\n",
    "\n",
    "images = driver.find_elements_by_tag_name(\"img\")\n",
    "images = [image.get_attribute(\"src\") for image in images]\n",
    "\n",
    "images"
   ]
  },
  {
   "cell_type": "code",
   "execution_count": 26,
   "metadata": {},
   "outputs": [],
   "source": [
    "path = os.getcwd()\n",
    "path = os.path.join(path, keyword[1:] + \"s\")\n",
    "\n",
    "os.mkdir(path)"
   ]
  },
  {
   "cell_type": "code",
   "execution_count": 27,
   "metadata": {},
   "outputs": [],
   "source": [
    "counter = 0\n",
    "for image in images:\n",
    "    save_as = os.path.join(path, keyword[1:] + str(counter) + \".jpg\")\n",
    "    wget.download(image, save_as)\n",
    "    counter += 1"
   ]
  },
  {
   "cell_type": "code",
   "execution_count": null,
   "metadata": {},
   "outputs": [],
   "source": []
  }
 ],
 "metadata": {
  "kernelspec": {
   "display_name": "Python 3 (ipykernel)",
   "language": "python",
   "name": "python3"
  },
  "language_info": {
   "codemirror_mode": {
    "name": "ipython",
    "version": 3
   },
   "file_extension": ".py",
   "mimetype": "text/x-python",
   "name": "python",
   "nbconvert_exporter": "python",
   "pygments_lexer": "ipython3",
   "version": "3.7.12"
  }
 },
 "nbformat": 4,
 "nbformat_minor": 4
}
